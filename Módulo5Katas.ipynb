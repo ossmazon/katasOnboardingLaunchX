{
 "cells": [
  {
   "cell_type": "code",
   "execution_count": 1,
   "metadata": {},
   "outputs": [
    {
     "name": "stdout",
     "output_type": "stream",
     "text": [
      "Distance between Jupiter and Earth 390810874.13143003 miles\n"
     ]
    }
   ],
   "source": [
    "earth = 149597870 #km\n",
    "jupiter = 778547200 #km\n",
    "distanceBetween = (jupiter - earth) * 0.621371\n",
    "\n",
    "print(\"Distance between Jupiter and Earth \" + str(distanceBetween) + \" miles\")\n"
   ]
  },
  {
   "cell_type": "code",
   "execution_count": 2,
   "metadata": {},
   "outputs": [
    {
     "name": "stdout",
     "output_type": "stream",
     "text": [
      "La distancia entre los dos planetas es 628949330 kilometros\n",
      "La distancia entre los dos planetas es 390577533.93 millas\n"
     ]
    }
   ],
   "source": [
    "planet1 = input(\"¿Cual es la distancia al sol del primer planeta en km?\")\n",
    "planet1 = int(planet1)\n",
    "planet2 = input(\"¿Cual es la distancia al sol del segundo planeta en km?\")\n",
    "planet2 = int(planet2)\n",
    "distanceBetweenPlanetsKm = (planet1 - planet2)\n",
    "print(\"La distancia entre los dos planetas es \" + str(abs(distanceBetweenPlanetsKm)) + \" kilometros\")\n",
    "distanceBetweenPlanetsmiles = distanceBetweenPlanetsKm * 0.621\n",
    "print(\"La distancia entre los dos planetas es \" + str(abs(distanceBetweenPlanetsmiles)) + \" millas\")\n"
   ]
  }
 ],
 "metadata": {
  "interpreter": {
   "hash": "c4006a29a2e8e4c5b83aad1f3ba672a007785fe2ba76f0b9fb9395e39a8de377"
  },
  "kernelspec": {
   "display_name": "Python 3.9.0 64-bit",
   "language": "python",
   "name": "python3"
  },
  "language_info": {
   "codemirror_mode": {
    "name": "ipython",
    "version": 3
   },
   "file_extension": ".py",
   "mimetype": "text/x-python",
   "name": "python",
   "nbconvert_exporter": "python",
   "pygments_lexer": "ipython3",
   "version": "3.9.0"
  },
  "orig_nbformat": 4
 },
 "nbformat": 4,
 "nbformat_minor": 2
}
