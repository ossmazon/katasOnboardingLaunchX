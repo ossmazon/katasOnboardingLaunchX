{
 "cells": [
  {
   "cell_type": "code",
   "execution_count": 6,
   "metadata": {},
   "outputs": [
    {
     "name": "stdout",
     "output_type": "stream",
     "text": [
      "There'are 8 in the solar sytem\n"
     ]
    }
   ],
   "source": [
    "planets = ['Mercury', 'Venus', 'Earth', 'Mars', 'Jupiter', 'Saturn', 'Uranus', 'Neptune']\n",
    "print(\"There'are\", len(planets), \"in the solar sytem\" )"
   ]
  },
  {
   "cell_type": "code",
   "execution_count": 7,
   "metadata": {},
   "outputs": [
    {
     "name": "stdout",
     "output_type": "stream",
     "text": [
      "['Mercury', 'Venus', 'Earth', 'Mars', 'Jupiter', 'Saturn', 'Uranus', 'Neptune', 'pluto']\n"
     ]
    }
   ],
   "source": [
    "planets.append(\"pluto\")\n",
    "print(planets)"
   ]
  },
  {
   "cell_type": "code",
   "execution_count": 10,
   "metadata": {},
   "outputs": [
    {
     "name": "stdout",
     "output_type": "stream",
     "text": [
      "There're 9 planets in the solar system recently we added pluto\n"
     ]
    }
   ],
   "source": [
    "\n",
    "numberOfPlanets = len(planets)\n",
    "print(\"There're\", numberOfPlanets, \"planets in the solar system recently we added\",planets[-1] )"
   ]
  },
  {
   "cell_type": "code",
   "execution_count": 11,
   "metadata": {},
   "outputs": [],
   "source": [
    "planets = ['Mercury', 'Venus', 'Earth', 'Mars', 'Jupiter', 'Saturn', 'Neptune']"
   ]
  },
  {
   "cell_type": "code",
   "execution_count": 9,
   "metadata": {},
   "outputs": [
    {
     "name": "stdout",
     "output_type": "stream",
     "text": [
      "You have just picked \n"
     ]
    },
    {
     "ename": "ValueError",
     "evalue": "'' is not in list",
     "output_type": "error",
     "traceback": [
      "\u001b[1;31m---------------------------------------------------------------------------\u001b[0m",
      "\u001b[1;31mValueError\u001b[0m                                Traceback (most recent call last)",
      "\u001b[1;32mc:\\Users\\Sergio Mazon Guzman\\Desktop\\Projects\\launch x\\katas\\modulo6Katas.ipynb Cell 5'\u001b[0m in \u001b[0;36m<module>\u001b[1;34m\u001b[0m\n\u001b[0;32m      <a href='vscode-notebook-cell:/c%3A/Users/Sergio%20Mazon%20Guzman/Desktop/Projects/launch%20x/katas/modulo6Katas.ipynb#ch0000004?line=0'>1</a>\u001b[0m findPlanet \u001b[39m=\u001b[39m \u001b[39minput\u001b[39m(\u001b[39m\"\u001b[39m\u001b[39mEnter the name of a planet from the solar system, (starting with a capital letter)\u001b[39m\u001b[39m\"\u001b[39m)\n\u001b[0;32m      <a href='vscode-notebook-cell:/c%3A/Users/Sergio%20Mazon%20Guzman/Desktop/Projects/launch%20x/katas/modulo6Katas.ipynb#ch0000004?line=1'>2</a>\u001b[0m \u001b[39mprint\u001b[39m(\u001b[39m\"\u001b[39m\u001b[39mYou have just picked\u001b[39m\u001b[39m\"\u001b[39m, findPlanet)\n\u001b[1;32m----> <a href='vscode-notebook-cell:/c%3A/Users/Sergio%20Mazon%20Guzman/Desktop/Projects/launch%20x/katas/modulo6Katas.ipynb#ch0000004?line=2'>3</a>\u001b[0m newPlanet \u001b[39m=\u001b[39m planets\u001b[39m.\u001b[39;49mindex(findPlanet)\n\u001b[0;32m      <a href='vscode-notebook-cell:/c%3A/Users/Sergio%20Mazon%20Guzman/Desktop/Projects/launch%20x/katas/modulo6Katas.ipynb#ch0000004?line=3'>4</a>\u001b[0m \u001b[39mprint\u001b[39m(findPlanet,\u001b[39m\"\u001b[39m\u001b[39mis the\u001b[39m\u001b[39m\"\u001b[39m, newPlanet \u001b[39m+\u001b[39m \u001b[39m1\u001b[39m, \u001b[39m'\u001b[39m\u001b[39mplanet from the sun\u001b[39m\u001b[39m'\u001b[39m)\n\u001b[0;32m      <a href='vscode-notebook-cell:/c%3A/Users/Sergio%20Mazon%20Guzman/Desktop/Projects/launch%20x/katas/modulo6Katas.ipynb#ch0000004?line=4'>5</a>\u001b[0m \u001b[39mprint\u001b[39m(\u001b[39m'\u001b[39m\u001b[39mHere are the planets closer than \u001b[39m\u001b[39m'\u001b[39m \u001b[39m+\u001b[39m findPlanet)\n",
      "\u001b[1;31mValueError\u001b[0m: '' is not in list"
     ]
    }
   ],
   "source": [
    "findPlanet = input(\"Enter the name of a planet from the solar system, (starting with a capital letter)\")\n",
    "print(\"You have just picked\", findPlanet)\n",
    "newPlanet = planets.index(findPlanet)\n",
    "print(findPlanet,\"is the\", newPlanet + 1, 'planet from the sun')\n",
    "print('Here are the planets closer than ' + findPlanet)\n",
    "print(planets[0:newPlanet])\n",
    "print('Here are the planets further than ' + findPlanet)\n",
    "print(planets[newPlanet + 1:])"
   ]
  }
 ],
 "metadata": {
  "interpreter": {
   "hash": "c4006a29a2e8e4c5b83aad1f3ba672a007785fe2ba76f0b9fb9395e39a8de377"
  },
  "kernelspec": {
   "display_name": "Python 3.9.0 64-bit",
   "language": "python",
   "name": "python3"
  },
  "language_info": {
   "codemirror_mode": {
    "name": "ipython",
    "version": 3
   },
   "file_extension": ".py",
   "mimetype": "text/x-python",
   "name": "python",
   "nbconvert_exporter": "python",
   "pygments_lexer": "ipython3",
   "version": "3.9.0"
  },
  "orig_nbformat": 4
 },
 "nbformat": 4,
 "nbformat_minor": 2
}
