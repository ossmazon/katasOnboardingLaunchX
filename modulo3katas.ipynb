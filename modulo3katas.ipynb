{
 "cells": [
  {
   "cell_type": "code",
   "execution_count": 20,
   "metadata": {},
   "outputs": [
    {
     "name": "stdout",
     "output_type": "stream",
     "text": [
      "Advertencia un asteroide se dirige a la tierra a una velocidad de 49 km/s\n"
     ]
    }
   ],
   "source": [
    "velocidadAsteroide = 49 \n",
    "\n",
    "if velocidadAsteroide > 25:\n",
    "    print (\"Advertencia un asteroide se dirige a la tierra a una velocidad de \" +str(velocidadAsteroide) + \" \" +\"km/s\")\n",
    "else:\n",
    "    print(\"Hoy es un buen día para la humanidad\")"
   ]
  },
  {
   "cell_type": "code",
   "execution_count": 1,
   "metadata": {},
   "outputs": [
    {
     "name": "stdout",
     "output_type": "stream",
     "text": [
      "Voltea al cielo se puede ver el rayo de luz que genera el asteroide al vioajar a una velocidad de 25 km/s\n"
     ]
    }
   ],
   "source": [
    "velocidadAsteroide = 25\n",
    "\n",
    "if velocidadAsteroide > 20:\n",
    "    print(\"Voltea al cielo se puede ver el rayo de luz que genera el asteroide al vioajar a una velocidad de \" + str(velocidadAsteroide)+\" \"+\"km/s\")\n",
    "elif velocidadAsteroide == 20:\n",
    "    print(\"Voltea al cielo se puede ver el rayo de luz que genera el asteroide al vioajar a una velocidad de \" + str(velocidadAsteroide)+\" \"+\"km/s\")\n",
    "else:\n",
    "    print(\"que tengas un buen día\")"
   ]
  },
  {
   "cell_type": "code",
   "execution_count": 62,
   "metadata": {},
   "outputs": [
    {
     "name": "stdout",
     "output_type": "stream",
     "text": [
      "Voltea al cielo se puede ver el rayo de luz que genera el asteroide al viajar a una velocidad de 20 km/s\n",
      "Advertencia la dimension del asteroide es de 60 metros y si impacta contra la tierra puede causar grades daños\n"
     ]
    }
   ],
   "source": [
    "velocidadAsteroide = 20\n",
    "dimensionAsteroide = 60\n",
    "\n",
    "if velocidadAsteroide >= 20 and velocidadAsteroide <= 25:\n",
    "    print(\"Voltea al cielo se puede ver el rayo de luz que genera el asteroide al viajar a una velocidad de \" +\n",
    "          str(velocidadAsteroide)+\" \"+\"km/s\")\n",
    "    if dimensionAsteroide >= 25 and dimensionAsteroide <= 1000:\n",
    "        print(\"Advertencia la dimension del asteroide es de \" + str(dimensionAsteroide) +\n",
    "              \" \" + \"metros y si impacta contra la tierra puede causar grades daños\")\n",
    "    else:\n",
    "        print(\"No hay de que preocuparse por las dimensiones del asteroide\")\n",
    "elif velocidadAsteroide > 25:\n",
    "    print(\"Advertencia un asteroide se dirige a la tierra a una velocidad de \" +\n",
    "          str(velocidadAsteroide) + \" \" + \"km/s\")\n",
    "    if dimensionAsteroide >= 25 and dimensionAsteroide <= 1000:\n",
    "        print(\"Advertencia la dimension del asteroide es de \" + str(dimensionAsteroide) +\n",
    "              \" \" + \"metros y al impactar contra la tierra puede causar grades daños\")\n",
    "    else:\n",
    "        print(\"No hay de que preocuparse por las dimensiones del asteroide\")\n",
    "else:\n",
    "    print(\"que tengas un buen día\")\n"
   ]
  }
 ],
 "metadata": {
  "interpreter": {
   "hash": "c4006a29a2e8e4c5b83aad1f3ba672a007785fe2ba76f0b9fb9395e39a8de377"
  },
  "kernelspec": {
   "display_name": "Python 3.9.0 64-bit",
   "language": "python",
   "name": "python3"
  },
  "language_info": {
   "codemirror_mode": {
    "name": "ipython",
    "version": 3
   },
   "file_extension": ".py",
   "mimetype": "text/x-python",
   "name": "python",
   "nbconvert_exporter": "python",
   "pygments_lexer": "ipython3",
   "version": "3.9.0"
  },
  "orig_nbformat": 4
 },
 "nbformat": 4,
 "nbformat_minor": 2
}
