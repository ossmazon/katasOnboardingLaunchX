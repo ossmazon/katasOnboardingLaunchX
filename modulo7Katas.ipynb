{
 "cells": [
  {
   "cell_type": "code",
   "execution_count": null,
   "metadata": {},
   "outputs": [],
   "source": [
    "new_planets = ''\n",
    "planets = []"
   ]
  },
  {
   "cell_type": "code",
   "execution_count": null,
   "metadata": {},
   "outputs": [],
   "source": [
    "while new_planets.lower() != \"done\":\n",
    "    if new_planets:\n",
    "        planets.append(new_planets)\n",
    "    new_planets = input(\"Enter a new planet or type 'done' to finish\")\n",
    "print(planets)"
   ]
  },
  {
   "cell_type": "code",
   "execution_count": null,
   "metadata": {},
   "outputs": [],
   "source": [
    "for planet in planets:\n",
    "    print(planet)\n",
    "print(\"these are the planes in the list\")\n"
   ]
  }
 ],
 "metadata": {
  "interpreter": {
   "hash": "c4006a29a2e8e4c5b83aad1f3ba672a007785fe2ba76f0b9fb9395e39a8de377"
  },
  "kernelspec": {
   "display_name": "Python 3.9.0 64-bit",
   "language": "python",
   "name": "python3"
  },
  "language_info": {
   "codemirror_mode": {
    "name": "ipython",
    "version": 3
   },
   "file_extension": ".py",
   "mimetype": "text/x-python",
   "name": "python",
   "nbconvert_exporter": "python",
   "pygments_lexer": "ipython3",
   "version": "3.9.0"
  },
  "orig_nbformat": 4
 },
 "nbformat": 4,
 "nbformat_minor": 2
}
